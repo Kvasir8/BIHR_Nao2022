{
 "nbformat": 4,
 "nbformat_minor": 0,
 "metadata": {
  "kernelspec": {
   "display_name": "Python 3",
   "language": "python",
   "name": "python3"
  },
  "language_info": {
   "codemirror_mode": {
    "name": "ipython",
    "version": 3
   },
   "file_extension": ".py",
   "mimetype": "text/x-python",
   "name": "python",
   "nbconvert_exporter": "python",
   "pygments_lexer": "ipython3",
   "version": "3.8.5"
  },
  "colab": {
   "name": "exercise_07_notebook_hkh.ipynb",
   "provenance": []
  }
 },
 "cells": [
  {
   "cell_type": "code",
   "metadata": {
    "id": "8G-w5BLnYCmz",
    "pycharm": {
     "name": "#%%\n"
    }
   },
   "source": [
    "import numpy as np\n",
    "import matplotlib.pyplot as plt\n",
    "\n",
    "from sklearn.datasets import load_digits\n",
    "from sklearn.model_selection import train_test_split\n",
    "from sklearn.preprocessing import label_binarize\n",
    "from sklearn.metrics import accuracy_score\n",
    "\n",
    "from scipy.special import softmax"
   ],
   "execution_count": null,
   "outputs": []
  },
  {
   "cell_type": "code",
   "metadata": {
    "id": "vPH_TUhPYCm6",
    "pycharm": {
     "name": "#%%\n"
    }
   },
   "source": [
    "X, y = load_digits(return_X_y=True)\n",
    "# Convert a categorical vector y (shape [N]) into a one-hot encoded matrix (shape [N, K])\n",
    "Y = label_binarize(y, classes=np.unique(y)).astype(np.float64)\n",
    "\n",
    "np.random.seed(123)\n",
    "X_train, X_test, Y_train, Y_test = train_test_split(X, Y, test_size=0.25)"
   ],
   "execution_count": null,
   "outputs": []
  },
  {
   "cell_type": "code",
   "metadata": {
    "id": "VF4PRcTTYCm6",
    "pycharm": {
     "name": "#%%\n"
    }
   },
   "source": [
    "N, K = Y.shape  # N - num_samples, K - num_classes\n",
    "D = X.shape[1] # num_features"
   ],
   "execution_count": null,
   "outputs": []
  },
  {
   "cell_type": "code",
   "metadata": {
    "id": "HvYEZghJYCm-",
    "pycharm": {
     "name": "#%%\n"
    }
   },
   "source": [
    "import nn_utils  # module containing helper functions for checking the correctness of your code"
   ],
   "execution_count": null,
   "outputs": []
  },
  {
   "cell_type": "code",
   "metadata": {
    "id": "XcnVkUAtYCm_",
    "pycharm": {
     "name": "#%%\n"
    }
   },
   "source": [
    "class Affine:\n",
    "    def forward(self, inputs, weight, bias):\n",
    "        \"\"\"Forward pass of an affine (fully connected) layer.\n",
    "        Args:\n",
    "            inputs: input matrix, shape (N, D)\n",
    "            weight: weight matrix, shape (D, H)\n",
    "            bias: bias vector, shape (H)\n",
    "        Returns\n",
    "            out: output matrix, shape (N, H)\n",
    "        \"\"\"\n",
    "        self.cache = (inputs, weight, bias)\n",
    "        out = inputs.dot(weight) + bias\n",
    "        return out\n",
    "\n",
    "    def backward(self, d_out):\n",
    "        \"\"\"Backward pass of an affine (fully connected) layer.\n",
    "        Args:\n",
    "            d_out: incoming derivaties, shape (N, H)\n",
    "        Returns:\n",
    "            d_inputs: gradient w.r.t. the inputs, shape (N, D)\n",
    "            d_weight: gradient w.r.t. the weight, shape (D, H)\n",
    "            d_bias: gradient w.r.t. the bias, shape (H)\n",
    "        \"\"\"\n",
    "        inputs, weight, bias = self.cache\n",
    "        d_inputs = d_out @ weight.T\n",
    "        d_weight = inputs.T @ d_out\n",
    "        # d_bias = np.sum(d_out,axis=0) # summing along the y axis => summing all N\n",
    "        d_bias = d_out.sum(axis=0)\n",
    "        return d_inputs, d_weight, d_bias"
   ],
   "execution_count": null,
   "outputs": []
  },
  {
   "cell_type": "code",
   "metadata": {
    "id": "dpGleT0gYCnE",
    "pycharm": {
     "name": "#%%\n"
    }
   },
   "source": [
    "class ReLU:\n",
    "    def forward(self, inputs):\n",
    "        \"\"\"Forward pass of a ReLU layer.\n",
    "        Args:\n",
    "            inputs: input matrix, arbitrary shape\n",
    "        Returns:\n",
    "            out: output matrix, has same shape as inputs\n",
    "        \"\"\"\n",
    "        self.cache = inputs\n",
    "        out = np.maximum(inputs, 0)\n",
    "        return out\n",
    "\n",
    "    def backward(self, d_out):\n",
    "        \"\"\"Backward pass of an ReLU layer.\n",
    "        Args:\n",
    "            d_out: incoming derivatives, same shape as inputs in forward\n",
    "        Returns:\n",
    "            d_inputs: gradient w.r.t. the inputs, same shape as d_out\n",
    "        \"\"\"\n",
    "        inputs = self.cache\n",
    "        d_inputs = d_out\n",
    "        d_inputs[inputs < 0] = 0\n",
    "        return d_inputs"
   ],
   "execution_count": null,
   "outputs": []
  },
  {
   "cell_type": "code",
   "metadata": {
    "id": "lwo6DO6oYCnG",
    "pycharm": {
     "name": "#%%\n"
    }
   },
   "source": [
    "class CategoricalCrossEntropy:\n",
    "    def forward(self, logits, labels):\n",
    "        \"\"\"Compute categorical cross-entropy loss.\n",
    "        Args:\n",
    "            logits: class logits, shape (N, K)\n",
    "            labels: target labels in one-hot format, shape (N, K)\n",
    "        Returns:\n",
    "            loss: loss value, float (a single number)\n",
    "        \"\"\"\n",
    "        l_s_exp = np.log( np.sum( np.exp(logits), axis=1, keepdims=True ) )\n",
    "        # Taking log of logtis yields logarithmic calculation\n",
    "        l_probs = logits - l_s_exp\n",
    "        N = labels.shape[0] # N Size to normalize\n",
    "        loss = - np.sum( labels * l_probs ) / N\n",
    "        probs = np.exp(l_probs)\n",
    "        # probs is the (N, K) matrix of class probabilities\n",
    "        self.cache = (probs, labels)\n",
    "        return loss\n",
    "\n",
    "    def backward(self, d_out=1.0):\n",
    "        \"\"\"Backward pass of the Cross Entropy loss.\n",
    "        Args:\n",
    "            d_out: Incoming derivatives. We set this value to 1.0 by default,\n",
    "                since this is the terminal node of our computational graph\n",
    "                (i.e. we usually want to compute gradients of loss w.r.t.\n",
    "                other model parameters).\n",
    "        Returns:\n",
    "            d_logits: gradient w.r.t. the logits, shape (N, K)\n",
    "            d_labels: gradient w.r.t. the labels\n",
    "                we don't need d_labels for our models, so we don't\n",
    "                compute it and set it to None. It's only included in the\n",
    "                function definition for consistency with other layers.\n",
    "        \"\"\"\n",
    "        probs, labels = self.cache\n",
    "        N = labels.shape[0]\n",
    "        d_logits = d_out * ( -labels + probs ) / N\n",
    "        d_labels = None\n",
    "        return d_logits, d_labels"
   ],
   "execution_count": null,
   "outputs": []
  },
  {
   "cell_type": "code",
   "metadata": {
    "id": "A5ebpTGGYCnI",
    "pycharm": {
     "name": "#%%\n"
    }
   },
   "source": [
    "class LogisticRegression:\n",
    "    def __init__(self, num_features, num_classes, learning_rate=1e-2):\n",
    "        \"\"\"Logistic regression model.\n",
    "        Gradients are computed with backpropagation.\n",
    "        The model consists of the following sequence of opeartions:\n",
    "        input -> affine -> softmax\n",
    "        \"\"\"\n",
    "        self.learning_rate = learning_rate\n",
    "        # Initialize the model parameters\n",
    "        self.params = {\n",
    "            'W': np.zeros([num_features, num_classes]),\n",
    "            'b': np.zeros([num_classes])\n",
    "        }\n",
    "        \n",
    "        # Define layers\n",
    "        self.affine = Affine()\n",
    "        self.cross_entropy = CategoricalCrossEntropy()\n",
    "    \n",
    "    def predict(self, X):\n",
    "        \"\"\"Generate predictions for one minibatch.\n",
    "        \n",
    "        Args:\n",
    "            X: data matrix, shape (N, D)\n",
    "            \n",
    "        Returns:\n",
    "            Y_pred: predicted class probabilities, shape (N, D)\n",
    "            Y_pred[n, k] = probability that sample n belongs to class k\n",
    "        \"\"\"\n",
    "        logits = self.affine.forward(X,self.params['W'], self.params['b'])\n",
    "        Y_pred = softmax(logits, axis=1)\n",
    "        return Y_pred\n",
    "    \n",
    "    def step(self, X, Y):\n",
    "        \"\"\"Perform one step of gradient descent on the minibatch of data.\n",
    "        \n",
    "        1. Compute the cross-entropy loss for given (X, Y).\n",
    "        2. Compute the gradients of the loss w.r.t. model parameters.\n",
    "        3. Update the model parameters using the gradients.\n",
    "        \n",
    "        Args:\n",
    "            X: data matrix, shape (N, D)\n",
    "            Y: target labels in one-hot format, shape (N, K)\n",
    "            \n",
    "        Returns:\n",
    "            loss: loss for (X, Y), float, (a single number)\n",
    "        \"\"\"\n",
    "        # Forward pass - compute the loss on training data\n",
    "        logits = self.affine.forward(X, self.params['W'], self.params['b'])\n",
    "        loss = self.cross_entropy.forward(logits, Y)\n",
    "        \n",
    "        # Backward pass - compute the gradients of loss w.r.t. all the model parameters\n",
    "        grads = {}\n",
    "        d_logits, _ = self.cross_entropy.backward()\n",
    "        _, grads['W'], grads['b'] = self.affine.backward(d_logits)\n",
    "        \n",
    "        # Apply the gradients\n",
    "        for p in self.params:\n",
    "            self.params[p] = self.params[p] - self.learning_rate * grads[p]\n",
    "        return loss"
   ],
   "execution_count": null,
   "outputs": []
  },
  {
   "cell_type": "code",
   "metadata": {
    "id": "NUL9pI2MYCnJ",
    "pycharm": {
     "name": "#%%\n"
    }
   },
   "source": [
    "# Specify optimization parameters\n",
    "learning_rate = 1e-2\n",
    "max_epochs = 501\n",
    "report_frequency = 50"
   ],
   "execution_count": null,
   "outputs": []
  },
  {
   "cell_type": "code",
   "metadata": {
    "id": "ESfsw2nuYCnJ",
    "pycharm": {
     "name": "#%%\n"
    }
   },
   "source": [
    "log_reg = LogisticRegression(num_features=D, num_classes=K)"
   ],
   "execution_count": null,
   "outputs": []
  },
  {
   "cell_type": "code",
   "metadata": {
    "scrolled": true,
    "id": "P2agZbGXYCnJ",
    "colab": {
     "base_uri": "https://localhost:8080/"
    },
    "outputId": "53700b9d-d41b-4686-f4d2-7010775a2b7e",
    "pycharm": {
     "name": "#%%\n"
    }
   },
   "source": [
    "for epoch in range(max_epochs):\n",
    "    loss = log_reg.step(X_train, Y_train)\n",
    "    if epoch % report_frequency == 0:\n",
    "        print(f'Epoch {epoch:4d}, loss = {loss:.4f}')"
   ],
   "execution_count": null,
   "outputs": [
    {
     "output_type": "stream",
     "name": "stdout",
     "text": [
      "Epoch    0, loss = 2.3026\n",
      "Epoch   50, loss = 0.2275\n",
      "Epoch  100, loss = 0.1599\n",
      "Epoch  150, loss = 0.1306\n",
      "Epoch  200, loss = 0.1130\n",
      "Epoch  250, loss = 0.1009\n",
      "Epoch  300, loss = 0.0918\n",
      "Epoch  350, loss = 0.0846\n",
      "Epoch  400, loss = 0.0788\n",
      "Epoch  450, loss = 0.0738\n",
      "Epoch  500, loss = 0.0696\n"
     ]
    }
   ]
  },
  {
   "cell_type": "code",
   "metadata": {
    "id": "e71PAiUpYCnK",
    "pycharm": {
     "name": "#%%\n"
    }
   },
   "source": [
    "y_test_pred = log_reg.predict(X_test).argmax(1)\n",
    "y_test_true = Y_test.argmax(1)"
   ],
   "execution_count": null,
   "outputs": []
  },
  {
   "cell_type": "code",
   "metadata": {
    "id": "bUBX9UfvYCnK",
    "colab": {
     "base_uri": "https://localhost:8080/"
    },
    "outputId": "e5cac0f7-388f-42e8-9bf2-f97a284efacc",
    "pycharm": {
     "name": "#%%\n"
    }
   },
   "source": [
    "print(f'test set accuracy = {accuracy_score(y_test_true, y_test_pred):.3f}')"
   ],
   "execution_count": null,
   "outputs": [
    {
     "output_type": "stream",
     "name": "stdout",
     "text": [
      "test set accuracy = 0.953\n"
     ]
    }
   ]
  },
  {
   "cell_type": "markdown",
   "metadata": {
    "id": "7LP6mj-fYCnL",
    "pycharm": {
     "name": "#%% md\n"
    }
   },
   "source": [
    "# Feed-forward neural network (with backpropagation)"
   ]
  },
  {
   "cell_type": "code",
   "metadata": {
    "id": "Z4nF_yapYCnL",
    "pycharm": {
     "name": "#%%\n"
    }
   },
   "source": [
    "def xavier_init(shape):\n",
    "    \"\"\"Initialize a weight matrix according to Xavier initialization.\n",
    "    \n",
    "    See pytorch.org/docs/stable/nn.init#torch.nn.init.xavier_uniform_ for details.\n",
    "    \"\"\"\n",
    "    a = np.sqrt(6.0 / float(np.sum(shape)))\n",
    "    return np.random.uniform(low=-a, high=a, size=shape)"
   ],
   "execution_count": null,
   "outputs": []
  },
  {
   "cell_type": "markdown",
   "metadata": {
    "id": "tcvES_dyYCnM",
    "pycharm": {
     "name": "#%% md\n"
    }
   },
   "source": [
    "## Task 4: Implement a two-layer `FeedForwardNeuralNet` model\n",
    "You can use the `LogisticRegression` class for reference"
   ]
  },
  {
   "cell_type": "code",
   "metadata": {
    "id": "J3RX8cRPYCnM",
    "pycharm": {
     "name": "#%%\n"
    }
   },
   "source": [
    "class FeedforwardNeuralNet:\n",
    "    def __init__(self, input_size, hidden_size, output_size, learning_rate=1e-2):\n",
    "        \"\"\"A two-layer feedforward neural network with ReLU activations.\n",
    "        \n",
    "        (input_layer -> hidden_layer -> output_layer)\n",
    "        \n",
    "        \n",
    "        The model consists of the following sequence of opeartions:\n",
    "        \n",
    "        input -> affine -> relu -> affine -> softmax\n",
    "        \n",
    "        \"\"\"\n",
    "        self.learning_rate = learning_rate\n",
    "        \n",
    "        # Initialize the model parameters\n",
    "        self.params = {\n",
    "            'W1': xavier_init([input_size, hidden_size]),\n",
    "            'b1': np.zeros([hidden_size]),\n",
    "            'W2': xavier_init([hidden_size, output_size]),\n",
    "            'b2': np.zeros([output_size]),\n",
    "        }\n",
    "        \n",
    "        # Define layers\n",
    "        ############################################################\n",
    "        # TODO\n",
    "        self.affine_1 = Affine() # input -> affine\n",
    "        self.affine_2 = Affine() # Another affine created\n",
    "        self.relu = ReLU() # relu\n",
    "        self.cross_entropy = CategoricalCrossEntropy() # Input to softmax\n",
    "        ############################################################\n",
    "    \n",
    "    def predict(self, X):\n",
    "        \"\"\"Generate predictions for one minibatch.\n",
    "        \n",
    "        Args:\n",
    "            X: data matrix, shape (N, D)\n",
    "            \n",
    "        Returns:\n",
    "            Y_pred: predicted class probabilities, shape (N, D)\n",
    "            Y_pred[n, k] = probability that sample n belongs to class k\n",
    "        \"\"\"\n",
    "        ############################################################\n",
    "        # TODO\n",
    "        Af1 = self.affine_1.forward(X, self.params['W1'], self.params['b1'])\n",
    "        Act = self.relu.forward(Af1)\n",
    "        logits = self.affine_2.forward(Act, self.params['W2'], self.params['b2'])\n",
    "        Y_pred = softmax(logits, axis = 1)\n",
    "        ############################################################\n",
    "        return Y_pred\n",
    "    \n",
    "    def step(self, X, Y):\n",
    "        \"\"\"Perform one step of gradient descent on the minibatch of data.\n",
    "        \n",
    "        1. Compute the cross-entropy loss for given (X, Y).\n",
    "        2. Compute the gradients of the loss w.r.t. model parameters.\n",
    "        3. Update the model parameters using the gradients.\n",
    "        \n",
    "        Args:\n",
    "            X: data matrix, shape (N, D)\n",
    "            Y: target labels in one-hot format, shape (N, K)\n",
    "            \n",
    "        Returns:\n",
    "            loss: loss for (X, Y), float, (a single number)\n",
    "        \"\"\"\n",
    "        ############################################################\n",
    "        # TODO\n",
    "        # FP\n",
    "        # Computing loss of training data\n",
    "        Af1 = self.affine_1.forward( X, self.params['W1'], self.params['b1'] )\n",
    "        Act = self.relu.forward(Af1)\n",
    "        logits = self.affine_2.forward( Act, self.params['W2'], self.params['b2'] )\n",
    "        loss = self.cross_entropy.forward(logits, Y)\n",
    "\n",
    "        # BP\n",
    "        # Computing gradient of loss w.r.t. corresponding model params.\n",
    "        grads = {}\n",
    "        d_logits, _ = self.cross_entropy.backward()\n",
    "        d_Af1, grads['W2'], grads['b2'] = self.affine_2.backward(d_logits)\n",
    "        d_Act = self.relu.backward(d_Af1)\n",
    "        d_logits = d_Act # for the sake of comprehension\n",
    "        _, grads['W1'], grads['b1'] = self.affine_1.backward(d_logits)\n",
    "\n",
    "        # Apply the gradients\n",
    "        #for p in self.params:\n",
    "        for p in self.params:\n",
    "          self.params[p] = self.params[p] - self.learning_rate * grads[p]\n",
    "\n",
    "        ############################################################\n",
    "        return loss"
   ],
   "execution_count": null,
   "outputs": []
  },
  {
   "cell_type": "code",
   "metadata": {
    "colab": {
     "base_uri": "https://localhost:8080/"
    },
    "id": "8AdgtqlZZnom",
    "outputId": "f9ad0ce3-9507-42ec-d2d6-59c952fb9ce6",
    "pycharm": {
     "name": "#%%\n"
    }
   },
   "source": [
    "# BP grads tuple test\n",
    "TestSetA = {}\n",
    "grad_valueA = 1/2\n",
    "TestSet['Weight'] = grad_valueA\n",
    "TestSetA"
   ],
   "execution_count": null,
   "outputs": [
    {
     "output_type": "execute_result",
     "data": {
      "text/plain": [
       "{}"
      ]
     },
     "metadata": {},
     "execution_count": 567
    }
   ]
  },
  {
   "cell_type": "code",
   "metadata": {
    "id": "7ZzVXyeUYCnN",
    "pycharm": {
     "name": "#%%\n"
    }
   },
   "source": [
    "H = 32  # size of the hidden layer\n",
    "\n",
    "# Specify optimization parameters\n",
    "learning_rate = 1e-2\n",
    "max_epochs = 501\n",
    "report_frequency = 50"
   ],
   "execution_count": null,
   "outputs": []
  },
  {
   "cell_type": "code",
   "metadata": {
    "id": "gguEjA4KYCnN",
    "pycharm": {
     "name": "#%%\n"
    }
   },
   "source": [
    "model = FeedforwardNeuralNet(input_size=D, hidden_size=H, output_size=K, learning_rate=learning_rate)"
   ],
   "execution_count": null,
   "outputs": []
  },
  {
   "cell_type": "code",
   "metadata": {
    "id": "IB8_f9OcYCnN",
    "colab": {
     "base_uri": "https://localhost:8080/"
    },
    "outputId": "5b19ab58-85cd-48a1-87bd-1386afd53a40",
    "pycharm": {
     "name": "#%%\n"
    }
   },
   "source": [
    "for epoch in range(max_epochs):\n",
    "    loss = model.step(X_train, Y_train)\n",
    "    if epoch % report_frequency == 0:\n",
    "        print(f'Epoch {epoch:4d}, loss = {loss:.4f}')"
   ],
   "execution_count": null,
   "outputs": [
    {
     "output_type": "stream",
     "name": "stdout",
     "text": [
      "Epoch    0, loss = 8.5876\n",
      "Epoch   50, loss = 0.6002\n",
      "Epoch  100, loss = 0.3517\n",
      "Epoch  150, loss = 0.2510\n",
      "Epoch  200, loss = 0.1975\n",
      "Epoch  250, loss = 0.1631\n",
      "Epoch  300, loss = 0.1401\n",
      "Epoch  350, loss = 0.1231\n",
      "Epoch  400, loss = 0.1098\n",
      "Epoch  450, loss = 0.0989\n",
      "Epoch  500, loss = 0.0897\n"
     ]
    }
   ]
  },
  {
   "cell_type": "code",
   "metadata": {
    "id": "FVMsJs48YCnO",
    "pycharm": {
     "name": "#%%\n"
    }
   },
   "source": [
    "y_test_pred = model.predict(X_test).argmax(1)\n",
    "y_test_true = Y_test.argmax(1)"
   ],
   "execution_count": null,
   "outputs": []
  },
  {
   "cell_type": "code",
   "metadata": {
    "scrolled": true,
    "id": "IfsGmhp0YCnO",
    "colab": {
     "base_uri": "https://localhost:8080/"
    },
    "outputId": "9bedb368-433b-4911-9004-51fad190e4af",
    "pycharm": {
     "name": "#%%\n"
    }
   },
   "source": [
    "print(f'test set accuracy = {accuracy_score(y_test_true, y_test_pred):.3f}')"
   ],
   "execution_count": null,
   "outputs": [
    {
     "output_type": "stream",
     "name": "stdout",
     "text": [
      "test set accuracy = 0.938\n"
     ]
    }
   ]
  }
 ]
}